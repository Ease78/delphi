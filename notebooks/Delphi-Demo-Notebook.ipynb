{
 "cells": [
  {
   "cell_type": "markdown",
   "metadata": {
    "slideshow": {
     "slide_type": "slide"
    }
   },
   "source": [
    "# Delphi Demo - CAGs from <span style='color:royalblue; font-style: italic'>Text</span>\n",
    "\n",
    "*July 30, 2018*\n",
    "\n",
    "This is a Jupyter notebook created to showcase the design and capabilities of\n",
    "the Delphi package, available at [https://github.com/ml4ai/delphi](https://github.com/ml4ai/delphi). \n",
    "\n",
    "A rendered HTML version of this notebook can also be found at\n",
    "[`http://vision.cs.arizona.edu/adarsh/Delphi-Demo-Notebook.html`](http://vision.cs.arizona.edu/adarsh/export/Delphi-Demo-Notebook.html)"
   ]
  },
  {
   "cell_type": "markdown",
   "metadata": {
    "slideshow": {
     "slide_type": "skip"
    }
   },
   "source": [
    "This demo has been tested with the version of Delphi corresponding to the commit hash below."
   ]
  },
  {
   "cell_type": "code",
   "execution_count": null,
   "metadata": {
    "attributes": {
     "classes": [],
     "id": "",
     "n": "1"
    },
    "slideshow": {
     "slide_type": "skip"
    }
   },
   "outputs": [],
   "source": [
    "import subprocess as sp\n",
    "commit_hash = sp.check_output([\"git\", \"rev-parse\", \"HEAD\"])\n",
    "print(commit_hash[:-1])"
   ]
  },
  {
   "cell_type": "markdown",
   "metadata": {
    "slideshow": {
     "slide_type": "slide"
    }
   },
   "source": [
    "## Construct and visualize CAG corresponding to use case"
   ]
  },
  {
   "cell_type": "code",
   "execution_count": null,
   "metadata": {},
   "outputs": [],
   "source": [
    "from delphi.utils import get_data_from_url\n",
    "import urllib.request as request\n",
    "import pickle\n",
    "from delphi.AnalysisGraph import AnalysisGraph\n",
    "from delphi.visualization import visualize\n",
    "from delphi.assembly import get_valid_statements_for_modeling\n",
    "import pandas as pd\n",
    "from delphi.inspection import statements\n",
    "import delphi.jupyter_tools as jt\n",
    "%matplotlib inline\n",
    "%load_ext autoreload\n",
    "%autoreload 2"
   ]
  },
  {
   "cell_type": "code",
   "execution_count": null,
   "metadata": {
    "attributes": {
     "classes": [],
     "id": "",
     "n": "1"
    },
    "slideshow": {
     "slide_type": "fragment"
    }
   },
   "outputs": [],
   "source": [
    "from delphi.utils.indra import get_statements_from_json_dict\n",
    "import json\n",
    "url = \"http://vision.cs.arizona.edu/adarsh/export/demos/data/preassembled_indra_statements-small.json\"\n",
    "sts = get_statements_from_json_dict(json.loads(request.urlopen(url).read()))"
   ]
  },
  {
   "cell_type": "code",
   "execution_count": null,
   "metadata": {},
   "outputs": [],
   "source": [
    "G = AnalysisGraph.from_statements(sts)"
   ]
  },
  {
   "cell_type": "code",
   "execution_count": null,
   "metadata": {
    "attributes": {
     "classes": [],
     "id": "",
     "n": "5"
    },
    "scrolled": false,
    "slideshow": {
     "slide_type": "fragment"
    }
   },
   "outputs": [],
   "source": [
    "G.merge_nodes('UN/entities/human/food/food_security', 'UN/entities/human/food/food_insecurity', same_polarity=False)"
   ]
  },
  {
   "cell_type": "code",
   "execution_count": null,
   "metadata": {},
   "outputs": [],
   "source": [
    "concepts = [\"UN/events/weather/precipitation\", \"UN/entities/human/food/food_insecurity\", \"UN/events/human/conflict\"]\n",
    "G = G.get_subgraph_for_concept_pairs(concepts, cutoff=2)"
   ]
  },
  {
   "cell_type": "code",
   "execution_count": null,
   "metadata": {},
   "outputs": [],
   "source": [
    "visualize(G, rankdir='TB', nodes_to_highlight=concepts)"
   ]
  },
  {
   "cell_type": "markdown",
   "metadata": {
    "slideshow": {
     "slide_type": "slide"
    }
   },
   "source": [
    "## Inspecting and editing CAGs"
   ]
  },
  {
   "cell_type": "markdown",
   "metadata": {
    "slideshow": {
     "slide_type": "slide"
    }
   },
   "source": [
    "## Inspecting statements"
   ]
  },
  {
   "cell_type": "code",
   "execution_count": null,
   "metadata": {
    "attributes": {
     "classes": [],
     "id": "",
     "n": "6"
    },
    "slideshow": {
     "slide_type": "fragment"
    }
   },
   "outputs": [],
   "source": [
    "pd.options.display.max_colwidth=1000\n",
    "pd.options.display.width=1000\n",
    "jt.create_statement_inspection_table(statements(G))"
   ]
  },
  {
   "cell_type": "markdown",
   "metadata": {
    "slideshow": {
     "slide_type": "slide"
    }
   },
   "source": [
    "## Removing incorrect edges"
   ]
  },
  {
   "cell_type": "code",
   "execution_count": null,
   "metadata": {
    "slideshow": {
     "slide_type": "fragment"
    }
   },
   "outputs": [],
   "source": [
    "G.remove_edges_from([('UN/entities/human/food/food_insecurity',\n",
    "                      'UN/events/natural_disaster/drought'),\n",
    "                     ('UN/entities/human/food/food_insecurity',\n",
    "                      'UN/entities/human/food/food_insecurity')])\n",
    "visualize(G, rankdir='TB',\n",
    "              nodes_to_highlight='UN/entities/human/food/food_insecurity')"
   ]
  },
  {
   "cell_type": "markdown",
   "metadata": {
    "slideshow": {
     "slide_type": "slide"
    }
   },
   "source": [
    "## Mapping concepts to indicators"
   ]
  },
  {
   "cell_type": "code",
   "execution_count": null,
   "metadata": {
    "slideshow": {
     "slide_type": "fragment"
    }
   },
   "outputs": [],
   "source": [
    "G.map_concepts_to_indicators(1)\n",
    "visualize(G, indicators=True)"
   ]
  },
  {
   "cell_type": "code",
   "execution_count": null,
   "metadata": {
    "scrolled": false
   },
   "outputs": [],
   "source": [
    "from datetime import datetime\n",
    "date = datetime(2014,1,1)\n",
    "G.parameterize(date)"
   ]
  },
  {
   "cell_type": "code",
   "execution_count": null,
   "metadata": {},
   "outputs": [],
   "source": [
    "visualize(G, indicators=True, indicator_values=True,\n",
    "          graph_label=f'Causal Analysis Graph for South Sudan, {date.year}')"
   ]
  },
  {
   "cell_type": "markdown",
   "metadata": {
    "slideshow": {
     "slide_type": "slide"
    }
   },
   "source": [
    "## Infer transition model"
   ]
  },
  {
   "cell_type": "code",
   "execution_count": null,
   "metadata": {
    "slideshow": {
     "slide_type": "fragment"
    }
   },
   "outputs": [],
   "source": [
    "G.res = 1000\n",
    "G.assemble_transition_model_from_gradable_adjectives()\n",
    "G.sample_from_prior()"
   ]
  },
  {
   "cell_type": "markdown",
   "metadata": {
    "slideshow": {
     "slide_type": "slide"
    }
   },
   "source": [
    "## Set initial parameters"
   ]
  },
  {
   "cell_type": "code",
   "execution_count": null,
   "metadata": {
    "scrolled": true
   },
   "outputs": [],
   "source": [
    "G.create_bmi_config_file()\n",
    "s0 = pd.read_csv('bmi_config.txt', index_col=0, header=None,\n",
    "                 error_bad_lines=False)[1]\n",
    "s0.loc['∂(UN/events/human/conflict)/∂t'] = 0.1\n",
    "s0.to_csv('bmi_config.txt')"
   ]
  },
  {
   "cell_type": "markdown",
   "metadata": {
    "slideshow": {
     "slide_type": "slide"
    }
   },
   "source": [
    "## Execute model"
   ]
  },
  {
   "cell_type": "markdown",
   "metadata": {},
   "source": [
    "Still todo: truncate probability distributions from 0 to 100 for percentages."
   ]
  },
  {
   "cell_type": "code",
   "execution_count": null,
   "metadata": {
    "scrolled": true,
    "slideshow": {
     "slide_type": "slide"
    }
   },
   "outputs": [],
   "source": [
    "from delphi.inspection import inspect_edge\n",
    "\n",
    "inspect_edge(G, 'UN/events/human/conflict',\n",
    "             'UN/entities/human/food/food_insecurity')"
   ]
  },
  {
   "cell_type": "markdown",
   "metadata": {
    "slideshow": {
     "slide_type": "slide"
    }
   },
   "source": [
    "## Exploring the unknown unknowns"
   ]
  },
  {
   "cell_type": "code",
   "execution_count": null,
   "metadata": {},
   "outputs": [],
   "source": [
    "url = 'http://vision.cs.arizona.edu/adarsh/export/demos/data/pi_mtg_demo_unfiltered.pkl'\n",
    "sts=pickle.load(get_data_from_url(url))"
   ]
  },
  {
   "cell_type": "code",
   "execution_count": null,
   "metadata": {
    "slideshow": {
     "slide_type": "subslide"
    }
   },
   "outputs": [],
   "source": [
    "G = AnalysisGraph.from_statements(sts)\n",
    "G.merge_nodes('UN/entities/human/food/food_security', 'UN/entities/human/food/food_insecurity', same_polarity=False)\n",
    "G = G.get_subgraph_for_concept_pair('UN/events/natural_disaster/drought', 'UN/entities/human/food/food_insecurity', cutoff=3)\n",
    "visualize(G, nodes_to_highlight=['UN/events/natural_disaster/drought',\n",
    "                                  'UN/entities/human/food/food_insecurity'])"
   ]
  },
  {
   "cell_type": "markdown",
   "metadata": {
    "slideshow": {
     "slide_type": "slide"
    }
   },
   "source": [
    "# Causal analysis graphs from <span style='color:royalblue; font-style: italic'>Software</span>"
   ]
  },
  {
   "cell_type": "markdown",
   "metadata": {
    "slideshow": {
     "slide_type": "subslide"
    }
   },
   "source": [
    "## Original Fortran program"
   ]
  },
  {
   "cell_type": "code",
   "execution_count": null,
   "metadata": {
    "slideshow": {
     "slide_type": "-"
    }
   },
   "outputs": [],
   "source": [
    "jt.display('../tests/data/crop_yield.f')"
   ]
  },
  {
   "cell_type": "markdown",
   "metadata": {
    "slideshow": {
     "slide_type": "subslide"
    }
   },
   "source": [
    "## Executable DBN - Loop plate representation"
   ]
  },
  {
   "cell_type": "code",
   "execution_count": null,
   "metadata": {
    "attributes": {
     "classes": [],
     "id": "",
     "n": "2"
    },
    "slideshow": {
     "slide_type": "slide"
    }
   },
   "outputs": [],
   "source": [
    "from delphi.GrFN.scopes import Scope\n",
    "A = Scope.from_fortran_file(\"../tests/data/crop_yield.f\").to_agraph()\n",
    "jt.display_image(A.draw(format='png', prog='dot'))"
   ]
  },
  {
   "cell_type": "markdown",
   "metadata": {
    "slideshow": {
     "slide_type": "slide"
    }
   },
   "source": [
    "## High-level representation of CAG from program"
   ]
  },
  {
   "cell_type": "code",
   "execution_count": null,
   "metadata": {
    "slideshow": {
     "slide_type": "fragment"
    }
   },
   "outputs": [],
   "source": [
    "from importlib import import_module\n",
    "from delphi.GrFN.ProgramAnalysisGraph import ProgramAnalysisGraph\n",
    "G = ProgramAnalysisGraph.from_agraph(A, import_module(\"crop_yield_lambdas\"))\n",
    "G.initialize()\n",
    "from delphi.visualization import visualize\n",
    "visualize(G, show_values = True)"
   ]
  },
  {
   "cell_type": "code",
   "execution_count": null,
   "metadata": {
    "slideshow": {
     "slide_type": "subslide"
    }
   },
   "outputs": [],
   "source": [
    "G.update()\n",
    "visualize(G, show_values = True)"
   ]
  },
  {
   "cell_type": "code",
   "execution_count": null,
   "metadata": {
    "slideshow": {
     "slide_type": "subslide"
    }
   },
   "outputs": [],
   "source": [
    "G.update()\n",
    "visualize(G, show_values = True)"
   ]
  },
  {
   "cell_type": "markdown",
   "metadata": {
    "slideshow": {
     "slide_type": "slide"
    }
   },
   "source": [
    "## Sensitivity Analysis"
   ]
  },
  {
   "cell_type": "code",
   "execution_count": null,
   "metadata": {
    "slideshow": {
     "slide_type": "fragment"
    }
   },
   "outputs": [],
   "source": [
    "import seaborn as sns\n",
    "sns.set_style('darkgrid')\n",
    "from IPython.display import set_matplotlib_formats\n",
    "set_matplotlib_formats('retina')\n",
    "import numpy as np\n",
    "from matplotlib import pyplot as plt\n",
    "from delphi.utils import compose, rcompose\n",
    "from delphi.GrFN.ProgramAnalysisGraph import ProgramAnalysisGraph\n",
    "\n",
    "def make_plots(n_samples, deterministic = True):\n",
    "    variables = ('RAIN', 'TOTAL_RAIN', 'YIELD_EST')\n",
    "    vals = {k:[] for k in variables}\n",
    "    days = {k:[] for k in variables}\n",
    "    palette = sns.color_palette()\n",
    "    colors = {k:palette[i] for i, k in enumerate(vals)}\n",
    "    fig, axes = plt.subplots(1,len(vals), figsize=(18, 5))\n",
    "    ax = {k:axes[i] for i, k in enumerate(vals)}\n",
    "\n",
    "    for _ in range(n_samples):\n",
    "        G = ProgramAnalysisGraph.from_agraph(A, import_module(\"crop_yield_lambdas\"))\n",
    "        if not deterministic:\n",
    "            G.nodes['MAX_RAIN']['init_fn'] = lambda: np.random.normal(4, 1)\n",
    "        G.initialize()\n",
    "        for i in range(1,31):\n",
    "            G.update()\n",
    "            for k in vals:\n",
    "                vals[k].append(G.nodes[k]['value'])\n",
    "                days[k].append(G.nodes['DAY']['value'])\n",
    "\n",
    "    for k in vals:\n",
    "        sns.lineplot(days[k], vals[k], ax = ax[k], label=k, color=colors[k])\n",
    "        ax[k].set_xlabel('DAY', fontsize=20)\n",
    "        ax[k].set_ylabel(k, fontsize=20)\n",
    "\n",
    "    plt.tight_layout()\n",
    "\n",
    "make_plots(10, deterministic=False)"
   ]
  },
  {
   "cell_type": "code",
   "execution_count": null,
   "metadata": {},
   "outputs": [],
   "source": []
  }
 ],
 "metadata": {
  "kernelspec": {
   "display_name": "Python 3",
   "language": "python",
   "name": "python3"
  },
  "language_info": {
   "codemirror_mode": {
    "name": "ipython",
    "version": 3
   },
   "file_extension": ".py",
   "mimetype": "text/x-python",
   "name": "python",
   "nbconvert_exporter": "python",
   "pygments_lexer": "ipython3",
   "version": "3.6.5"
  },
  "toc": {
   "base_numbering": 1,
   "nav_menu": {},
   "number_sections": true,
   "sideBar": true,
   "skip_h1_title": true,
   "title_cell": "Table of Contents",
   "title_sidebar": "Contents",
   "toc_cell": false,
   "toc_position": {
    "height": "calc(100% - 180px)",
    "left": "10px",
    "top": "150px",
    "width": "165px"
   },
   "toc_section_display": true,
   "toc_window_display": false
  }
 },
 "nbformat": 4,
 "nbformat_minor": 2
}
