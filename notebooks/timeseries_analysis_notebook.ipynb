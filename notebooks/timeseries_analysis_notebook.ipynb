{
 "cells": [
  {
   "cell_type": "markdown",
   "metadata": {},
   "source": [
    "# Data snooping Notebook\n",
    "\n",
    "_Loren Champlin_\n",
    "\n",
    "My notebook created for doing time series analysis on our WM indicators."
   ]
  },
  {
   "cell_type": "code",
   "execution_count": null,
   "metadata": {},
   "outputs": [],
   "source": [
    "%load_ext autoreload\n",
    "%autoreload 2\n",
    "%matplotlib inline\n",
    "from IPython.display import set_matplotlib_formats\n",
    "set_matplotlib_formats('retina')\n",
    "import numpy as np\n",
    "import pandas as pd\n",
    "from delphi.db import engine\n",
    "import random as rm\n",
    "import delphi.evaluation_port as EN\n",
    "import warnings\n",
    "warnings.filterwarnings(\"ignore\")\n",
    "import logging\n",
    "logging.getLogger().setLevel(logging.CRITICAL)\n",
    "import time\n",
    "import seaborn as sns\n",
    "import matplotlib.pyplot as plt\n",
    "import seaborn as sns\n",
    "from scipy import stats\n",
    "import matplotlib.patches as mpatches\n",
    "import matplotlib.ticker as ticker\n",
    "import traces\n",
    "import datetime\n",
    "import glob\n",
    "import sys\n",
    "from statsmodels.tsa.stattools import adfuller, acf, pacf\n",
    "from statsmodels.tsa.seasonal import seasonal_decompose\n",
    "from statsmodels.tsa.arima_model import ARIMA\n",
    "from statsmodels.graphics.tsaplots import plot_acf, plot_pacf\n",
    "import pmdarima as pm"
   ]
  },
  {
   "cell_type": "code",
   "execution_count": null,
   "metadata": {},
   "outputs": [],
   "source": [
    "def parse_iso_datetime(value):\n",
    "    return datetime.datetime.strptime(value, \"%Y-%m\")"
   ]
  },
  {
   "cell_type": "code",
   "execution_count": null,
   "metadata": {},
   "outputs": [],
   "source": [
    "def read_all(pattern):\n",
    "    \"\"\"Read all of the CSVs in a directory matching the filename pattern\n",
    "    as TimeSeries.\n",
    "\n",
    "    \"\"\"\n",
    "    result = []\n",
    "    for filename in glob.iglob(pattern):\n",
    "        print('reading', filename, file=sys.stderr)\n",
    "        ts = traces.TimeSeries.from_csv(\n",
    "            filename,\n",
    "            time_column=0,\n",
    "            time_transform=parse_iso_datetime,\n",
    "            value_column=1,\n",
    "            value_transform=float,\n",
    "            default=0,\n",
    "        )\n",
    "        result.append(ts)\n",
    "    return result"
   ]
  },
  {
   "cell_type": "code",
   "execution_count": null,
   "metadata": {},
   "outputs": [],
   "source": [
    "def test_stationarity(timeseries):\n",
    "    \n",
    "    #Determing rolling statistics\n",
    "    rolmean = timeseries.rolling(12).mean()\n",
    "    rolstd = timeseries.rolling(12).std()\n",
    "#Plot rolling statistics:\n",
    "    plt.plot(timeseries, color='blue',label='Original')\n",
    "    plt.plot(rolmean, color='red', label='Rolling Mean')\n",
    "    plt.plot(rolstd, color='black', label = 'Rolling Std')\n",
    "    plt.legend(loc='best')\n",
    "    plt.title('Rolling Mean & Standard Deviation')\n",
    "    plt.show()\n",
    "    #Perform Dickey-Fuller test:\n",
    "    print('Results of Dickey-Fuller Test:')\n",
    "    dftest = adfuller(timeseries, autolag='AIC')\n",
    "    dfoutput = pd.Series(dftest[0:4], index=['Test Statistic','p-value','#Lags Used','Number of Observations Used'])\n",
    "    for key,value in dftest[4].items():\n",
    "        dfoutput['Critical Value (%s)'%key] = value\n",
    "    print(dfoutput)"
   ]
  },
  {
   "cell_type": "code",
   "execution_count": null,
   "metadata": {},
   "outputs": [],
   "source": [
    "ts_list = read_all(\"/Users/loren_champlin/Desktop/processed_data_IPC_and_migration/most_frequent_county_IPC_jonglei.csv\")\n",
    "\n",
    "ipc_ts = ts_list[0]\n",
    "\n",
    "ipc_ts_true = ts_list[0]\n",
    "\n",
    "#ipc_ts\n",
    "ipc_df = ipc_ts.moving_average(2629754,pandas=True)\n"
   ]
  },
  {
   "cell_type": "code",
   "execution_count": null,
   "metadata": {},
   "outputs": [],
   "source": [
    "date = []\n",
    "year = 2009\n",
    "month = 7\n",
    "for i in range(120):\n",
    "    date.append(f\"{year}-{month}\")\n",
    "    if month == 12:\n",
    "        month = 1\n",
    "        year = year + 1\n",
    "    else:\n",
    "        month = month + 1\n",
    "\n",
    "\n",
    "ipc_df = pd.DataFrame(ipc_df.values.round().reshape(-1,1), columns=[\"Most Frequent County IPC in Jonglei\"])\n",
    "\n",
    "ipc_df['Month'] = date\n",
    "\n",
    "con=ipc_df['Month']\n",
    "ipc_df['Month']=pd.to_datetime(ipc_df['Month'])\n",
    "ipc_df.set_index('Month', inplace=True)\n",
    "#check datatype of index\n",
    "ipc_df.index\n",
    "\n",
    "ipc_ts = ipc_df['Most Frequent County IPC in Jonglei']\n",
    "\n",
    "sns.set(rc={\"figure.figsize\": (20, 10)}, style=\"whitegrid\")\n",
    "\n",
    "ax = sns.lineplot(data=ipc_ts, sort=False, markers=[\"o\"], linewidth=3,markersize=10)\n",
    "ax.set_title('Most Frequent County IPC in Jonglei (with imputation)')"
   ]
  },
  {
   "cell_type": "code",
   "execution_count": null,
   "metadata": {},
   "outputs": [],
   "source": [
    "ipc_df = pd.DataFrame(ipc_ts_true, columns=[\"Month\",\"Most Frequent County IPC in Jonglei\"])\n",
    "\n",
    "con=ipc_df['Month']\n",
    "ipc_df['Month']=pd.to_datetime(ipc_df['Month'])\n",
    "ipc_df.set_index('Month', inplace=True)\n",
    "#check datatype of index\n",
    "ipc_df.index\n",
    "\n",
    "ipc_ts_true = ipc_df['Most Frequent County IPC in Jonglei']\n",
    "\n",
    "sns.set(rc={\"figure.figsize\": (20, 10)}, style=\"whitegrid\")\n",
    "\n",
    "ax = sns.lineplot(data=ipc_ts_true, sort=False, markers=[\"o\"], linewidth=3,markersize=10)\n",
    "ax.set_title('Most Frequent County IPC in Jonglei')"
   ]
  },
  {
   "cell_type": "code",
   "execution_count": null,
   "metadata": {},
   "outputs": [],
   "source": [
    "test_stationarity(ipc_ts)"
   ]
  },
  {
   "cell_type": "code",
   "execution_count": null,
   "metadata": {},
   "outputs": [],
   "source": [
    "decomposition = seasonal_decompose(ipc_ts)\n",
    "\n",
    "trend = decomposition.trend\n",
    "seasonal = decomposition.seasonal\n",
    "residual = decomposition.resid\n",
    "\n",
    "plt.subplot(411)\n",
    "plt.plot(ipc_ts, label='Original')\n",
    "plt.legend(loc='best')\n",
    "plt.subplot(412)\n",
    "plt.plot(trend, label='Trend')\n",
    "plt.legend(loc='best')\n",
    "plt.subplot(413)\n",
    "plt.plot(seasonal, label='Seasonal')\n",
    "plt.legend(loc='best')\n",
    "plt.subplot(414)\n",
    "plt.plot(residual, label='Residual')\n",
    "plt.legend(loc='best')"
   ]
  },
  {
   "cell_type": "code",
   "execution_count": null,
   "metadata": {},
   "outputs": [],
   "source": [
    "fig, axes = plt.subplots(3, 2, sharex=True)\n",
    "axes[0, 0].plot(ipc_ts.values); axes[0, 0].set_title('Original Series')\n",
    "plot_acf(ipc_ts.values, ax=axes[0, 1])\n",
    "\n",
    "axes[1, 0].plot(ipc_ts.diff().values); axes[1, 0].set_title('1st Order Differencing')\n",
    "plot_acf(ipc_ts.diff().dropna().values, ax=axes[1, 1])\n",
    "\n",
    "axes[2, 0].plot(ipc_ts.diff().diff().values); axes[2, 0].set_title('2nd Order Differencing')\n",
    "plot_acf(ipc_ts.diff().diff().dropna().values, ax=axes[2, 1])\n",
    "\n",
    "plt.show()"
   ]
  },
  {
   "cell_type": "code",
   "execution_count": null,
   "metadata": {},
   "outputs": [],
   "source": [
    "model = ARIMA(ipc_ts, order=(0,1,1))\n",
    "model_fit = model.fit(disp=0,trend='nc')\n",
    "print(model_fit.summary())"
   ]
  },
  {
   "cell_type": "code",
   "execution_count": null,
   "metadata": {},
   "outputs": [],
   "source": [
    "residuals = pd.DataFrame(model_fit.resid)\n",
    "fig, ax = plt.subplots(1,2)\n",
    "residuals.plot(title=\"Residuals\", ax=ax[0])\n",
    "residuals.plot(kind='kde', title='Density', ax=ax[1])\n",
    "plt.show()"
   ]
  },
  {
   "cell_type": "code",
   "execution_count": null,
   "metadata": {},
   "outputs": [],
   "source": [
    "model_fit.plot_predict(dynamic=False)\n",
    "plt.show()"
   ]
  },
  {
   "cell_type": "code",
   "execution_count": null,
   "metadata": {},
   "outputs": [],
   "source": [
    "#len(ipc_ts)*.75, len(ipc_ts)*.25\n",
    "\n",
    "train = ipc_ts[:90]\n",
    "test = ipc_ts[89:]\n",
    "\n"
   ]
  },
  {
   "cell_type": "code",
   "execution_count": null,
   "metadata": {
    "scrolled": false
   },
   "outputs": [],
   "source": [
    "model_t = ARIMA(train, order=(0,1,1))\n",
    "model_fit_t = model_t.fit(disp=0,trend='nc')\n",
    "print(model_fit_t.summary())"
   ]
  },
  {
   "cell_type": "code",
   "execution_count": null,
   "metadata": {},
   "outputs": [],
   "source": [
    "residuals = pd.DataFrame(model_fit_t.resid)\n",
    "fig, ax = plt.subplots(1,2)\n",
    "residuals.plot(title=\"Residuals\", ax=ax[0])\n",
    "residuals.plot(kind='kde', title='Density', ax=ax[1])\n",
    "plt.show()"
   ]
  },
  {
   "cell_type": "code",
   "execution_count": null,
   "metadata": {},
   "outputs": [],
   "source": [
    "fc, se, conf = model_fit_t.forecast(31, alpha=0.05)\n",
    "\n",
    "fc = fc.round()"
   ]
  },
  {
   "cell_type": "code",
   "execution_count": null,
   "metadata": {},
   "outputs": [],
   "source": [
    "fc_series = pd.Series(fc, index=test.index)\n",
    "fc_series = fc_series.round()\n",
    "lower_series = pd.Series(conf[:, 0], index=test.index)\n",
    "upper_series = pd.Series(conf[:, 1], index=test.index)\n",
    "lower_series = lower_series.round()\n",
    "upper_series = upper_series.round()\n",
    "lower_series[lower_series < 1] = 1\n",
    "lower_series[lower_series > 5] = 5\n",
    "upper_series[upper_series < 1] = 1\n",
    "upper_series[upper_series > 5] = 5"
   ]
  },
  {
   "cell_type": "code",
   "execution_count": null,
   "metadata": {},
   "outputs": [],
   "source": [
    "plt.figure(figsize=(12,5), dpi=100)\n",
    "plt.plot(train, label='training')\n",
    "plt.plot(test, label='actual')\n",
    "plt.plot(fc_series, label='forecast')\n",
    "plt.fill_between(lower_series.index, lower_series, upper_series, \n",
    "                 color='k', alpha=.15)\n",
    "plt.title('Most Frequent County IPC in Jonglei (Forecast vs Actuals)')\n",
    "plt.legend(loc='upper left', fontsize=8)\n",
    "plt.show()"
   ]
  },
  {
   "cell_type": "code",
   "execution_count": null,
   "metadata": {},
   "outputs": [],
   "source": [
    "def forecast_accuracy(forecast, actual):\n",
    "    mape = np.mean(np.abs(forecast - actual)/np.abs(actual))  # MAPE\n",
    "    me = np.mean(forecast - actual)             # ME\n",
    "    mae = np.mean(np.abs(forecast - actual))    # MAE\n",
    "    mpe = np.mean((forecast - actual)/actual)   # MPE\n",
    "    rmse = np.mean((forecast - actual)**2)**.5  # RMSE\n",
    "    corr = np.corrcoef(forecast, actual)[0,1]   # corr\n",
    "    mins = np.amin(np.hstack([forecast[:,None], \n",
    "                              actual[:,None]]), axis=1)\n",
    "    maxs = np.amax(np.hstack([forecast[:,None], \n",
    "                              actual[:,None]]), axis=1)\n",
    "    minmax = 1 - np.mean(mins/maxs)             # minmax\n",
    "    acf1 = acf(forecast-actual)[1]                      # ACF1\n",
    "    return({'mape':mape, 'me':me, 'mae': mae, \n",
    "            'mpe': mpe, 'rmse':rmse, 'acf1':acf1, \n",
    "            'corr':corr, 'minmax':minmax})"
   ]
  },
  {
   "cell_type": "code",
   "execution_count": null,
   "metadata": {},
   "outputs": [],
   "source": [
    "forecast_accuracy(fc, test.values)"
   ]
  },
  {
   "cell_type": "code",
   "execution_count": null,
   "metadata": {},
   "outputs": [],
   "source": [
    "model = pm.auto_arima(ipc_ts, start_p=0, start_q=0,\n",
    "                      test='adf',       # use adftest to find optimal 'd'\n",
    "                      max_p=4, max_q=4, # maximum p and q\n",
    "                      m=12,              # frequency of series\n",
    "                      d=None,           # let model determine 'd'\n",
    "                      seasonal=False,   # No Seasonality\n",
    "                      start_P=0, \n",
    "                      D=None, \n",
    "                      trace=True,\n",
    "                      error_action='ignore',  \n",
    "                      suppress_warnings=True, \n",
    "                      stepwise=True)\n",
    "\n",
    "print(model.summary())"
   ]
  },
  {
   "cell_type": "code",
   "execution_count": null,
   "metadata": {},
   "outputs": [],
   "source": [
    "train = ipc_ts[:90]\n",
    "test = ipc_ts[89:]\n",
    "smodel = pm.auto_arima(train, start_p=0, start_q=0,\n",
    "                      test='adf',       # use adftest to find optimal 'd'\n",
    "                      max_p=4, max_q=4, # maximum p and q\n",
    "                      m=12,              # frequency of series\n",
    "                      d=None,           # let model determine 'd'\n",
    "                      seasonal=True,   # No Seasonality\n",
    "                      start_P=0, \n",
    "                      D=None,\n",
    "                      max_D = 3,\n",
    "                      trace=True,\n",
    "                      error_action='ignore',  \n",
    "                      suppress_warnings=True, \n",
    "                      stepwise=True)\n",
    "\n",
    "print(smodel.summary())"
   ]
  },
  {
   "cell_type": "code",
   "execution_count": null,
   "metadata": {},
   "outputs": [],
   "source": [
    "residuals = pd.DataFrame(smodel.resid())\n",
    "fig, ax = plt.subplots(1,2)\n",
    "residuals.plot(title=\"Residuals\", ax=ax[0])\n",
    "residuals.plot(kind='kde', title='Density', ax=ax[1])\n",
    "plt.show()"
   ]
  },
  {
   "cell_type": "code",
   "execution_count": null,
   "metadata": {},
   "outputs": [],
   "source": [
    "n_periods = 31\n",
    "fitted, confint = smodel.predict(n_periods=n_periods, return_conf_int=True)\n",
    "fitted = fitted.round()\n",
    "index_of_fc = pd.date_range(train.index[-1], periods = n_periods, freq='MS')\n",
    "fitted_series = pd.Series(fitted, index=index_of_fc)\n",
    "fitted_series = fitted_series.round()\n",
    "lower_series = pd.Series(confint[:, 0], index=index_of_fc)\n",
    "upper_series = pd.Series(confint[:, 1], index=index_of_fc)\n",
    "lower_series = lower_series.round()\n",
    "upper_series = upper_series.round()\n",
    "lower_series[lower_series < 1] = 1\n",
    "lower_series[lower_series > 5] = 5\n",
    "upper_series[upper_series < 1] = 1\n",
    "upper_series[upper_series > 5] = 5"
   ]
  },
  {
   "cell_type": "code",
   "execution_count": null,
   "metadata": {},
   "outputs": [],
   "source": [
    "plt.figure(figsize=(12,5), dpi=100)\n",
    "plt.plot(train, label='training')\n",
    "plt.plot(test, label='actual')\n",
    "plt.plot(fitted_series, label='forecast')\n",
    "plt.fill_between(lower_series.index, lower_series, upper_series, \n",
    "                 color='k', alpha=.15)\n",
    "plt.title('Most Frequent County IPC in Jonglei (Forecast vs Actuals)')\n",
    "plt.legend(loc='upper left', fontsize=8)\n",
    "plt.show()"
   ]
  },
  {
   "cell_type": "code",
   "execution_count": null,
   "metadata": {},
   "outputs": [],
   "source": [
    "forecast_accuracy(fitted, test.values)"
   ]
  },
  {
   "cell_type": "code",
   "execution_count": null,
   "metadata": {},
   "outputs": [],
   "source": [
    "ts_list = read_all(\"/Users/loren_champlin/Desktop/processed_data_IPC_and_migration/new_asylum_seeking_applicants_south_sudan.csv\")\n",
    "\n",
    "as_ts = ts_list[0]\n",
    "\n",
    "as_ts_true = ts_list[0]\n",
    "\n",
    "#ipc_ts\n",
    "as_df = as_ts.moving_average(2600837,pandas=True)\n"
   ]
  },
  {
   "cell_type": "code",
   "execution_count": null,
   "metadata": {},
   "outputs": [],
   "source": [
    "date = []\n",
    "year = 2011\n",
    "month = 7\n",
    "for i in range(88):\n",
    "    date.append(f\"{year}-{month}\")\n",
    "    if month == 12:\n",
    "        month = 1\n",
    "        year = year + 1\n",
    "    else:\n",
    "        month = month + 1\n",
    "\n",
    "\n",
    "as_df = pd.DataFrame(as_df.values.round().reshape(-1,1), columns=[\"New Asylum Seeking applicants in South Sudan\"])\n",
    "\n",
    "as_df['Month'] = date\n",
    "\n",
    "con=as_df['Month']\n",
    "as_df['Month']=pd.to_datetime(as_df['Month'])\n",
    "as_df.set_index('Month', inplace=True)\n",
    "#check datatype of index\n",
    "as_df.index\n",
    "\n",
    "as_ts = as_df[\"New Asylum Seeking applicants in South Sudan\"]\n",
    "\n",
    "sns.set(rc={\"figure.figsize\": (20, 10)}, style=\"whitegrid\")\n",
    "\n",
    "ax = sns.lineplot(data=as_ts, sort=False, markers=[\"o\"], linewidth=3,markersize=10)\n",
    "ax.set_title(\"New Asylum Seeking applicants in South Sudan (with Smoothing)\")"
   ]
  },
  {
   "cell_type": "code",
   "execution_count": null,
   "metadata": {},
   "outputs": [],
   "source": [
    "as_df = pd.DataFrame(as_ts_true, columns=[\"Month\",\"New Asylum Seeking applicants in South Sudan\"])\n",
    "\n",
    "con=as_df['Month']\n",
    "as_df['Month']=pd.to_datetime(as_df['Month'])\n",
    "as_df.set_index('Month', inplace=True)\n",
    "#check datatype of index\n",
    "as_df.index\n",
    "\n",
    "as_ts_true = as_df['New Asylum Seeking applicants in South Sudan']\n",
    "\n",
    "sns.set(rc={\"figure.figsize\": (20, 10)}, style=\"whitegrid\")\n",
    "\n",
    "ax = sns.lineplot(data=as_ts_true, sort=False, markers=[\"o\"], linewidth=3,markersize=10)\n",
    "ax.set_title('New Asylum Seeking applicants in South Sudan')"
   ]
  },
  {
   "cell_type": "code",
   "execution_count": null,
   "metadata": {},
   "outputs": [],
   "source": [
    "test_stationarity(as_ts)"
   ]
  },
  {
   "cell_type": "code",
   "execution_count": null,
   "metadata": {},
   "outputs": [],
   "source": [
    "decomposition = seasonal_decompose(as_ts)\n",
    "\n",
    "trend = decomposition.trend\n",
    "seasonal = decomposition.seasonal\n",
    "residual = decomposition.resid\n",
    "\n",
    "plt.subplot(411)\n",
    "plt.plot(as_ts, label='Original')\n",
    "plt.legend(loc='best')\n",
    "plt.subplot(412)\n",
    "plt.plot(trend, label='Trend')\n",
    "plt.legend(loc='best')\n",
    "plt.subplot(413)\n",
    "plt.plot(seasonal, label='Seasonal')\n",
    "plt.legend(loc='best')\n",
    "plt.subplot(414)\n",
    "plt.plot(residual, label='Residual')\n",
    "plt.legend(loc='best')"
   ]
  },
  {
   "cell_type": "code",
   "execution_count": null,
   "metadata": {},
   "outputs": [],
   "source": [
    "fig, axes = plt.subplots(3, 2, sharex=True)\n",
    "axes[0, 0].plot(as_ts.values); axes[0, 0].set_title('Original Series')\n",
    "plot_acf(as_ts.values, ax=axes[0, 1])\n",
    "\n",
    "axes[1, 0].plot(as_ts.diff().values); axes[1, 0].set_title('1st Order Differencing')\n",
    "plot_acf(as_ts.diff().dropna().values, ax=axes[1, 1])\n",
    "\n",
    "axes[2, 0].plot(as_ts.diff().diff().values); axes[2, 0].set_title('2nd Order Differencing')\n",
    "plot_acf(as_ts.diff().diff().dropna().values, ax=axes[2, 1])\n",
    "\n",
    "plt.show()"
   ]
  },
  {
   "cell_type": "code",
   "execution_count": null,
   "metadata": {},
   "outputs": [],
   "source": [
    "model = ARIMA(as_ts, order=(2,1,1))\n",
    "model_fit = model.fit(disp=0, trend='nc')\n",
    "print(model_fit.summary())"
   ]
  },
  {
   "cell_type": "code",
   "execution_count": null,
   "metadata": {},
   "outputs": [],
   "source": [
    "residuals = pd.DataFrame(model_fit.resid)\n",
    "fig, ax = plt.subplots(1,2)\n",
    "residuals.plot(title=\"Residuals\", ax=ax[0])\n",
    "residuals.plot(kind='kde', title='Density', ax=ax[1])\n",
    "plt.show()"
   ]
  },
  {
   "cell_type": "code",
   "execution_count": null,
   "metadata": {},
   "outputs": [],
   "source": [
    "model_fit.plot_predict(dynamic=False)\n",
    "plt.show()"
   ]
  },
  {
   "cell_type": "code",
   "execution_count": null,
   "metadata": {},
   "outputs": [],
   "source": [
    "#len(as_ts)*.75, len(as_ts)*.25\n",
    "\n",
    "train = as_ts[:66]\n",
    "test = as_ts[65:]"
   ]
  },
  {
   "cell_type": "code",
   "execution_count": null,
   "metadata": {},
   "outputs": [],
   "source": [
    "model_t = ARIMA(train, order=(2,1,1))\n",
    "model_fit_t = model_t.fit(disp=0, trend='nc')\n",
    "print(model_fit_t.summary())"
   ]
  },
  {
   "cell_type": "code",
   "execution_count": null,
   "metadata": {},
   "outputs": [],
   "source": [
    "residuals = pd.DataFrame(model_fit_t.resid)\n",
    "fig, ax = plt.subplots(1,2)\n",
    "residuals.plot(title=\"Residuals\", ax=ax[0])\n",
    "residuals.plot(kind='kde', title='Density', ax=ax[1])\n",
    "plt.show()"
   ]
  },
  {
   "cell_type": "code",
   "execution_count": null,
   "metadata": {},
   "outputs": [],
   "source": [
    "fc, se, conf = model_fit_t.forecast(23, alpha=0.05)"
   ]
  },
  {
   "cell_type": "code",
   "execution_count": null,
   "metadata": {},
   "outputs": [],
   "source": [
    "fc_series = pd.Series(fc, index=test.index)\n",
    "lower_series = pd.Series(conf[:, 0], index=test.index)\n",
    "upper_series = pd.Series(conf[:, 1], index=test.index)"
   ]
  },
  {
   "cell_type": "code",
   "execution_count": null,
   "metadata": {},
   "outputs": [],
   "source": [
    "plt.figure(figsize=(12,5), dpi=100)\n",
    "plt.plot(train, label='training')\n",
    "plt.plot(test, label='actual')\n",
    "plt.plot(fc_series, label='forecast')\n",
    "plt.fill_between(lower_series.index, lower_series, upper_series, \n",
    "                 color='k', alpha=.15)\n",
    "plt.title('Forecast vs Actuals')\n",
    "plt.legend(loc='upper left', fontsize=8)\n",
    "plt.show()"
   ]
  },
  {
   "cell_type": "code",
   "execution_count": null,
   "metadata": {},
   "outputs": [],
   "source": [
    "forecast_accuracy(fc, test.values)"
   ]
  },
  {
   "cell_type": "code",
   "execution_count": null,
   "metadata": {},
   "outputs": [],
   "source": [
    "model = pm.auto_arima(as_ts, start_p=0, start_q=0,\n",
    "                      test='adf',       # use adftest to find optimal 'd'\n",
    "                      max_p=4, max_q=4, # maximum p and q\n",
    "                      m=12,              # frequency of series\n",
    "                      d=None,           # let model determine 'd'\n",
    "                      seasonal=False,   # No Seasonality\n",
    "                      start_P=0, \n",
    "                      D=None, \n",
    "                      trace=True,\n",
    "                      error_action='ignore',  \n",
    "                      suppress_warnings=True, \n",
    "                      stepwise=True)\n",
    "\n",
    "print(model.summary())"
   ]
  },
  {
   "cell_type": "code",
   "execution_count": null,
   "metadata": {},
   "outputs": [],
   "source": [
    "train = as_ts[:66]\n",
    "test = as_ts[65:]\n",
    "smodel = pm.auto_arima(train, start_p=0, start_q=0,\n",
    "                      test='adf',       # use adftest to find optimal 'd'\n",
    "                      max_p=4, max_q=4, # maximum p and q\n",
    "                      m=12,              # frequency of series\n",
    "                      d=None,           # let model determine 'd'\n",
    "                      seasonal=True,   # No Seasonality\n",
    "                      start_P=0, \n",
    "                      D=None,\n",
    "                      max_D = 3,\n",
    "                      max_P = 3,\n",
    "                      max_Q = 3,\n",
    "                      trace=True,\n",
    "                      error_action='ignore',  \n",
    "                      suppress_warnings=True, \n",
    "                      stepwise=True,\n",
    "                      with_intercept=True)\n",
    "\n",
    "print(smodel.summary())"
   ]
  },
  {
   "cell_type": "code",
   "execution_count": null,
   "metadata": {},
   "outputs": [],
   "source": [
    "residuals = pd.DataFrame(smodel.resid())\n",
    "fig, ax = plt.subplots(1,2)\n",
    "residuals.plot(title=\"Residuals\", ax=ax[0])\n",
    "residuals.plot(kind='kde', title='Density', ax=ax[1])\n",
    "plt.show()"
   ]
  },
  {
   "cell_type": "code",
   "execution_count": null,
   "metadata": {},
   "outputs": [],
   "source": [
    "n_periods = 23\n",
    "fitted, confint = smodel.predict(n_periods=n_periods, return_conf_int=True)\n",
    "index_of_fc = pd.date_range(train.index[-1], periods = n_periods, freq='MS')\n",
    "fitted_series = pd.Series(fitted, index=index_of_fc)\n",
    "lower_series = pd.Series(confint[:, 0], index=index_of_fc)\n",
    "upper_series = pd.Series(confint[:, 1], index=index_of_fc)"
   ]
  },
  {
   "cell_type": "code",
   "execution_count": null,
   "metadata": {},
   "outputs": [],
   "source": [
    "plt.figure(figsize=(12,5), dpi=100)\n",
    "plt.plot(train, label='training')\n",
    "plt.plot(test, label='actual')\n",
    "plt.plot(fitted_series, label='forecast')\n",
    "plt.fill_between(lower_series.index, lower_series, upper_series, \n",
    "                 color='k', alpha=.15)\n",
    "plt.title('Forecast vs Actuals')\n",
    "plt.legend(loc='upper left', fontsize=8)\n",
    "plt.show()"
   ]
  },
  {
   "cell_type": "code",
   "execution_count": null,
   "metadata": {},
   "outputs": [],
   "source": [
    "forecast_accuracy(fitted, test.values)"
   ]
  }
 ],
 "metadata": {
  "kernelspec": {
   "display_name": "Python 3",
   "language": "python",
   "name": "python3"
  },
  "language_info": {
   "codemirror_mode": {
    "name": "ipython",
    "version": 3
   },
   "file_extension": ".py",
   "mimetype": "text/x-python",
   "name": "python",
   "nbconvert_exporter": "python",
   "pygments_lexer": "ipython3",
   "version": "3.7.3"
  }
 },
 "nbformat": 4,
 "nbformat_minor": 2
}
