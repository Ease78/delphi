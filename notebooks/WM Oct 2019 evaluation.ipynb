{
 "cells": [
  {
   "cell_type": "code",
   "execution_count": null,
   "metadata": {},
   "outputs": [],
   "source": [
    "%load_ext autoreload\n",
    "%autoreload 2"
   ]
  },
  {
   "cell_type": "code",
   "execution_count": null,
   "metadata": {},
   "outputs": [],
   "source": [
    "from delphi.cpp.DelphiPython import AnalysisGraph\n",
    "from delphi.jupyter_tools import display"
   ]
  },
  {
   "cell_type": "code",
   "execution_count": null,
   "metadata": {
    "scrolled": true
   },
   "outputs": [],
   "source": [
    "G = AnalysisGraph.from_json_file(\"../data/statements_pruned.json\",\n",
    "                                 grounding_score_cutoff=0.85,\n",
    "                                 belief_score_cutoff=0.85);\n",
    "G.num_vertices(), G.num_edges()"
   ]
  },
  {
   "cell_type": "code",
   "execution_count": null,
   "metadata": {
    "scrolled": false
   },
   "outputs": [],
   "source": [
    "G.merge_nodes(\"wm/concept/causal_factor/condition/food_insecurity\",\n",
    "              \"wm/concept/causal_factor/condition/food_security\",\n",
    "              False)\n",
    "G.merge_nodes(\"wm/concept/causal_factor/weather/precipitation/drought\",\n",
    "              \"wm/concept/causal_factor/crisis_and_disaster/crisis/environmental_factor/natural_disaster/drought\",\n",
    "              False)"
   ]
  },
  {
   "cell_type": "code",
   "execution_count": null,
   "metadata": {
    "scrolled": false
   },
   "outputs": [],
   "source": [
    "sorted(G[n].name for n in G)"
   ]
  },
  {
   "cell_type": "code",
   "execution_count": null,
   "metadata": {
    "scrolled": false
   },
   "outputs": [],
   "source": [
    "G_s = G.get_subgraph_for_concept(\"wm/concept/causal_factor/condition/food_security\", depth=2, inward=True)"
   ]
  },
  {
   "cell_type": "code",
   "execution_count": null,
   "metadata": {},
   "outputs": [],
   "source": [
    "G_s.num_vertices(), G_s.num_edges()"
   ]
  },
  {
   "cell_type": "code",
   "execution_count": null,
   "metadata": {},
   "outputs": [],
   "source": [
    "display(G_s, node_to_highlight=\"wm/concept/causal_factor/condition/food_security\")"
   ]
  },
  {
   "cell_type": "code",
   "execution_count": null,
   "metadata": {},
   "outputs": [],
   "source": [
    "food_security = \"wm/concept/causal_factor/condition/food_security\"\n",
    "food_insecurity = \"wm/concept/causal_factor/condition/food_insecurity\"\n",
    "G.merge_nodes(food_insecurity, food_security, same_polarity=False)\n",
    "G_sub = G.get_subgraph_for_concept(food_security, depth=3, inward=True)\n",
    "G_sub.num_vertices()"
   ]
  },
  {
   "cell_type": "code",
   "execution_count": null,
   "metadata": {},
   "outputs": [],
   "source": [
    "display(G_sub, simplified_labels=True, node_to_highlight=food_security)"
   ]
  },
  {
   "cell_type": "code",
   "execution_count": null,
   "metadata": {},
   "outputs": [],
   "source": [
    "for n in G_sub:\n",
    "    print(G[n])"
   ]
  },
  {
   "cell_type": "code",
   "execution_count": null,
   "metadata": {},
   "outputs": [],
   "source": [
    "G_sub.merge_nodes(\"wm/concept/causal_factor/condition/food_insecurity\", \"wm/concept/causal_factor/condition/food_security\", False)"
   ]
  },
  {
   "cell_type": "code",
   "execution_count": null,
   "metadata": {},
   "outputs": [],
   "source": [
    "display(G_sub, node_to_highlight=food_insecurity)"
   ]
  },
  {
   "cell_type": "code",
   "execution_count": null,
   "metadata": {},
   "outputs": [],
   "source": []
  }
 ],
 "metadata": {
  "kernelspec": {
   "display_name": "Python 3",
   "language": "python",
   "name": "python3"
  },
  "language_info": {
   "codemirror_mode": {
    "name": "ipython",
    "version": 3
   },
   "file_extension": ".py",
   "mimetype": "text/x-python",
   "name": "python",
   "nbconvert_exporter": "python",
   "pygments_lexer": "ipython3",
   "version": "3.6.9"
  }
 },
 "nbformat": 4,
 "nbformat_minor": 2
}
