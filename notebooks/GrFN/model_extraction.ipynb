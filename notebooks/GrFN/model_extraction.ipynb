{
 "cells": [
  {
   "cell_type": "markdown",
   "metadata": {},
   "source": [
    "# AutoMATES Model Extraction Example"
   ]
  },
  {
   "cell_type": "markdown",
   "metadata": {},
   "source": [
    "This tutorial demonstrates how to create a grounded function network from a Fortran source file and supporting documents."
   ]
  },
  {
   "cell_type": "code",
   "execution_count": null,
   "metadata": {},
   "outputs": [],
   "source": [
    "from IPython.core.display import Image\n",
    "\n",
    "from delphi.GrFN.networks import GroundedFunctionNetwork\n",
    "import delphi.GrFN.linking as linking\n",
    "\n",
    "\n",
    "fortran_filename = \"PETPT.for\"\n",
    "(G, _) = GroundedFunctionNetwork.from_fortran_file(fortran_filename)\n",
    "\n",
    "# View the extracted GrFN\n",
    "Image(G.to_agraph().draw(format=\"png\", prog=\"dot\"), retina=True)"
   ]
  },
  {
   "cell_type": "markdown",
   "metadata": {},
   "source": [
    "We can also view the CAG graph of the GrFN. The CAG shows the directed releationships between variables in the GrFN"
   ]
  },
  {
   "cell_type": "code",
   "execution_count": null,
   "metadata": {},
   "outputs": [],
   "source": [
    "CAG = G.to_CAG_agraph()\n",
    "Image(CAG.draw(format=\"png\", prog=\"dot\"), retina=True)"
   ]
  },
  {
   "cell_type": "code",
   "execution_count": null,
   "metadata": {},
   "outputs": [],
   "source": [
    "tables = linking.make_link_tables(G)\n",
    "linking.print_table_data(tables)"
   ]
  }
 ],
 "metadata": {
  "kernelspec": {
   "display_name": "Python 3",
   "language": "python",
   "name": "python3"
  },
  "language_info": {
   "codemirror_mode": {
    "name": "ipython",
    "version": 3
   },
   "file_extension": ".py",
   "mimetype": "text/x-python",
   "name": "python",
   "nbconvert_exporter": "python",
   "pygments_lexer": "ipython3",
   "version": "3.6.8"
  }
 },
 "nbformat": 4,
 "nbformat_minor": 2
}
